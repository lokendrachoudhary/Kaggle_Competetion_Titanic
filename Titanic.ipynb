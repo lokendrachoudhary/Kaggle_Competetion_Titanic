{
  "nbformat": 4,
  "nbformat_minor": 0,
  "metadata": {
    "colab": {
      "name": "titanic copy.ipynb",
      "provenance": [],
      "include_colab_link": true
    },
    "kernelspec": {
      "name": "python3",
      "display_name": "Python 3"
    }
  },
  "cells": [
    {
      "cell_type": "markdown",
      "metadata": {
        "id": "view-in-github",
        "colab_type": "text"
      },
      "source": [
        "<a href=\"https://colab.research.google.com/github/lokendrachoudhary/Kaggle_Competetion_Titanic/blob/master/Titanic.ipynb\" target=\"_parent\"><img src=\"https://colab.research.google.com/assets/colab-badge.svg\" alt=\"Open In Colab\"/></a>"
      ]
    },
    {
      "cell_type": "markdown",
      "metadata": {
        "id": "7FUjoKLRRktN",
        "colab_type": "text"
      },
      "source": [
        "https://www.kaggle.com/kpacocha/top-5-titanic-machine-learning-from-disaster \n",
        "\n",
        "copied from here for learning"
      ]
    },
    {
      "cell_type": "code",
      "metadata": {
        "id": "ZohJkUlPyWoH",
        "colab_type": "code",
        "colab": {}
      },
      "source": [
        "import warnings\n",
        "warnings.filterwarnings(\"ignore\")"
      ],
      "execution_count": 0,
      "outputs": []
    },
    {
      "cell_type": "code",
      "metadata": {
        "id": "_d8_lUEIyvVm",
        "colab_type": "code",
        "outputId": "fddf6192-3c67-4821-d284-42f4bab5b6f3",
        "colab": {
          "base_uri": "https://localhost:8080/",
          "height": 34
        }
      },
      "source": [
        "import pandas as pd\n",
        "import numpy as np\n",
        "import datetime\n",
        "import matplotlib.pyplot as plt\n",
        "import matplotlib\n",
        "import seaborn as sns\n",
        "from sklearn.metrics import confusion_matrix\n",
        "import math \n",
        "import xgboost as xgb\n",
        "np.random.seed(2019)\n",
        "from scipy.stats import skew\n",
        "from scipy import stats\n",
        "\n",
        "import statsmodels\n",
        "from sklearn.metrics import accuracy_score\n",
        "\n",
        "%matplotlib inline\n",
        "print(\"done\")"
      ],
      "execution_count": 0,
      "outputs": [
        {
          "output_type": "stream",
          "text": [
            "done\n"
          ],
          "name": "stdout"
        }
      ]
    },
    {
      "cell_type": "code",
      "metadata": {
        "id": "9R4gULix0MWF",
        "colab_type": "code",
        "colab": {}
      },
      "source": [
        "from google.colab import files\n",
        "files.upload()"
      ],
      "execution_count": 0,
      "outputs": []
    },
    {
      "cell_type": "code",
      "metadata": {
        "id": "-quWIBvA1KoW",
        "colab_type": "code",
        "colab": {}
      },
      "source": [
        " train = pd.read_csv(\"train.csv\")\n",
        " train['train'] = 1\n",
        " test = pd.read_csv(\"test.csv\")\n",
        " test['train'] = 0\n",
        " data = train.append(test, ignore_index=True)\n",
        " data = data.set_index('PassengerId')"
      ],
      "execution_count": 0,
      "outputs": []
    },
    {
      "cell_type": "code",
      "metadata": {
        "id": "utsrC3tG2rqV",
        "colab_type": "code",
        "colab": {
          "base_uri": "https://localhost:8080/",
          "height": 235
        },
        "outputId": "e4e4658b-6ecb-4217-9b9b-55e52bfa6535"
      },
      "source": [
        "data.head(5)"
      ],
      "execution_count": 23,
      "outputs": [
        {
          "output_type": "execute_result",
          "data": {
            "text/html": [
              "<div>\n",
              "<style scoped>\n",
              "    .dataframe tbody tr th:only-of-type {\n",
              "        vertical-align: middle;\n",
              "    }\n",
              "\n",
              "    .dataframe tbody tr th {\n",
              "        vertical-align: top;\n",
              "    }\n",
              "\n",
              "    .dataframe thead th {\n",
              "        text-align: right;\n",
              "    }\n",
              "</style>\n",
              "<table border=\"1\" class=\"dataframe\">\n",
              "  <thead>\n",
              "    <tr style=\"text-align: right;\">\n",
              "      <th></th>\n",
              "      <th>Age</th>\n",
              "      <th>Cabin</th>\n",
              "      <th>Embarked</th>\n",
              "      <th>Fare</th>\n",
              "      <th>Name</th>\n",
              "      <th>Parch</th>\n",
              "      <th>Pclass</th>\n",
              "      <th>Sex</th>\n",
              "      <th>SibSp</th>\n",
              "      <th>Survived</th>\n",
              "      <th>Ticket</th>\n",
              "      <th>train</th>\n",
              "    </tr>\n",
              "    <tr>\n",
              "      <th>PassengerId</th>\n",
              "      <th></th>\n",
              "      <th></th>\n",
              "      <th></th>\n",
              "      <th></th>\n",
              "      <th></th>\n",
              "      <th></th>\n",
              "      <th></th>\n",
              "      <th></th>\n",
              "      <th></th>\n",
              "      <th></th>\n",
              "      <th></th>\n",
              "      <th></th>\n",
              "    </tr>\n",
              "  </thead>\n",
              "  <tbody>\n",
              "    <tr>\n",
              "      <th>1</th>\n",
              "      <td>22.0</td>\n",
              "      <td>NaN</td>\n",
              "      <td>S</td>\n",
              "      <td>7.2500</td>\n",
              "      <td>Braund, Mr. Owen Harris</td>\n",
              "      <td>0</td>\n",
              "      <td>3</td>\n",
              "      <td>male</td>\n",
              "      <td>1</td>\n",
              "      <td>0.0</td>\n",
              "      <td>A/5 21171</td>\n",
              "      <td>1</td>\n",
              "    </tr>\n",
              "    <tr>\n",
              "      <th>2</th>\n",
              "      <td>38.0</td>\n",
              "      <td>C85</td>\n",
              "      <td>C</td>\n",
              "      <td>71.2833</td>\n",
              "      <td>Cumings, Mrs. John Bradley (Florence Briggs Th...</td>\n",
              "      <td>0</td>\n",
              "      <td>1</td>\n",
              "      <td>female</td>\n",
              "      <td>1</td>\n",
              "      <td>1.0</td>\n",
              "      <td>PC 17599</td>\n",
              "      <td>1</td>\n",
              "    </tr>\n",
              "    <tr>\n",
              "      <th>3</th>\n",
              "      <td>26.0</td>\n",
              "      <td>NaN</td>\n",
              "      <td>S</td>\n",
              "      <td>7.9250</td>\n",
              "      <td>Heikkinen, Miss. Laina</td>\n",
              "      <td>0</td>\n",
              "      <td>3</td>\n",
              "      <td>female</td>\n",
              "      <td>0</td>\n",
              "      <td>1.0</td>\n",
              "      <td>STON/O2. 3101282</td>\n",
              "      <td>1</td>\n",
              "    </tr>\n",
              "    <tr>\n",
              "      <th>4</th>\n",
              "      <td>35.0</td>\n",
              "      <td>C123</td>\n",
              "      <td>S</td>\n",
              "      <td>53.1000</td>\n",
              "      <td>Futrelle, Mrs. Jacques Heath (Lily May Peel)</td>\n",
              "      <td>0</td>\n",
              "      <td>1</td>\n",
              "      <td>female</td>\n",
              "      <td>1</td>\n",
              "      <td>1.0</td>\n",
              "      <td>113803</td>\n",
              "      <td>1</td>\n",
              "    </tr>\n",
              "    <tr>\n",
              "      <th>5</th>\n",
              "      <td>35.0</td>\n",
              "      <td>NaN</td>\n",
              "      <td>S</td>\n",
              "      <td>8.0500</td>\n",
              "      <td>Allen, Mr. William Henry</td>\n",
              "      <td>0</td>\n",
              "      <td>3</td>\n",
              "      <td>male</td>\n",
              "      <td>0</td>\n",
              "      <td>0.0</td>\n",
              "      <td>373450</td>\n",
              "      <td>1</td>\n",
              "    </tr>\n",
              "  </tbody>\n",
              "</table>\n",
              "</div>"
            ],
            "text/plain": [
              "              Age Cabin Embarked  ...  Survived            Ticket  train\n",
              "PassengerId                       ...                                   \n",
              "1            22.0   NaN        S  ...       0.0         A/5 21171      1\n",
              "2            38.0   C85        C  ...       1.0          PC 17599      1\n",
              "3            26.0   NaN        S  ...       1.0  STON/O2. 3101282      1\n",
              "4            35.0  C123        S  ...       1.0            113803      1\n",
              "5            35.0   NaN        S  ...       0.0            373450      1\n",
              "\n",
              "[5 rows x 12 columns]"
            ]
          },
          "metadata": {
            "tags": []
          },
          "execution_count": 23
        }
      ]
    },
    {
      "cell_type": "code",
      "metadata": {
        "id": "CFQYVO_h3VxW",
        "colab_type": "code",
        "colab": {
          "base_uri": "https://localhost:8080/",
          "height": 297
        },
        "outputId": "02b1b309-7bd4-4222-ef71-1ff741d2a44d"
      },
      "source": [
        "data.describe()"
      ],
      "execution_count": 24,
      "outputs": [
        {
          "output_type": "execute_result",
          "data": {
            "text/html": [
              "<div>\n",
              "<style scoped>\n",
              "    .dataframe tbody tr th:only-of-type {\n",
              "        vertical-align: middle;\n",
              "    }\n",
              "\n",
              "    .dataframe tbody tr th {\n",
              "        vertical-align: top;\n",
              "    }\n",
              "\n",
              "    .dataframe thead th {\n",
              "        text-align: right;\n",
              "    }\n",
              "</style>\n",
              "<table border=\"1\" class=\"dataframe\">\n",
              "  <thead>\n",
              "    <tr style=\"text-align: right;\">\n",
              "      <th></th>\n",
              "      <th>Age</th>\n",
              "      <th>Fare</th>\n",
              "      <th>Parch</th>\n",
              "      <th>Pclass</th>\n",
              "      <th>SibSp</th>\n",
              "      <th>Survived</th>\n",
              "      <th>train</th>\n",
              "    </tr>\n",
              "  </thead>\n",
              "  <tbody>\n",
              "    <tr>\n",
              "      <th>count</th>\n",
              "      <td>1046.000000</td>\n",
              "      <td>1308.000000</td>\n",
              "      <td>1309.000000</td>\n",
              "      <td>1309.000000</td>\n",
              "      <td>1309.000000</td>\n",
              "      <td>891.000000</td>\n",
              "      <td>1309.000000</td>\n",
              "    </tr>\n",
              "    <tr>\n",
              "      <th>mean</th>\n",
              "      <td>29.881138</td>\n",
              "      <td>33.295479</td>\n",
              "      <td>0.385027</td>\n",
              "      <td>2.294882</td>\n",
              "      <td>0.498854</td>\n",
              "      <td>0.383838</td>\n",
              "      <td>0.680672</td>\n",
              "    </tr>\n",
              "    <tr>\n",
              "      <th>std</th>\n",
              "      <td>14.413493</td>\n",
              "      <td>51.758668</td>\n",
              "      <td>0.865560</td>\n",
              "      <td>0.837836</td>\n",
              "      <td>1.041658</td>\n",
              "      <td>0.486592</td>\n",
              "      <td>0.466394</td>\n",
              "    </tr>\n",
              "    <tr>\n",
              "      <th>min</th>\n",
              "      <td>0.170000</td>\n",
              "      <td>0.000000</td>\n",
              "      <td>0.000000</td>\n",
              "      <td>1.000000</td>\n",
              "      <td>0.000000</td>\n",
              "      <td>0.000000</td>\n",
              "      <td>0.000000</td>\n",
              "    </tr>\n",
              "    <tr>\n",
              "      <th>25%</th>\n",
              "      <td>21.000000</td>\n",
              "      <td>7.895800</td>\n",
              "      <td>0.000000</td>\n",
              "      <td>2.000000</td>\n",
              "      <td>0.000000</td>\n",
              "      <td>0.000000</td>\n",
              "      <td>0.000000</td>\n",
              "    </tr>\n",
              "    <tr>\n",
              "      <th>50%</th>\n",
              "      <td>28.000000</td>\n",
              "      <td>14.454200</td>\n",
              "      <td>0.000000</td>\n",
              "      <td>3.000000</td>\n",
              "      <td>0.000000</td>\n",
              "      <td>0.000000</td>\n",
              "      <td>1.000000</td>\n",
              "    </tr>\n",
              "    <tr>\n",
              "      <th>75%</th>\n",
              "      <td>39.000000</td>\n",
              "      <td>31.275000</td>\n",
              "      <td>0.000000</td>\n",
              "      <td>3.000000</td>\n",
              "      <td>1.000000</td>\n",
              "      <td>1.000000</td>\n",
              "      <td>1.000000</td>\n",
              "    </tr>\n",
              "    <tr>\n",
              "      <th>max</th>\n",
              "      <td>80.000000</td>\n",
              "      <td>512.329200</td>\n",
              "      <td>9.000000</td>\n",
              "      <td>3.000000</td>\n",
              "      <td>8.000000</td>\n",
              "      <td>1.000000</td>\n",
              "      <td>1.000000</td>\n",
              "    </tr>\n",
              "  </tbody>\n",
              "</table>\n",
              "</div>"
            ],
            "text/plain": [
              "               Age         Fare  ...    Survived        train\n",
              "count  1046.000000  1308.000000  ...  891.000000  1309.000000\n",
              "mean     29.881138    33.295479  ...    0.383838     0.680672\n",
              "std      14.413493    51.758668  ...    0.486592     0.466394\n",
              "min       0.170000     0.000000  ...    0.000000     0.000000\n",
              "25%      21.000000     7.895800  ...    0.000000     0.000000\n",
              "50%      28.000000    14.454200  ...    0.000000     1.000000\n",
              "75%      39.000000    31.275000  ...    1.000000     1.000000\n",
              "max      80.000000   512.329200  ...    1.000000     1.000000\n",
              "\n",
              "[8 rows x 7 columns]"
            ]
          },
          "metadata": {
            "tags": []
          },
          "execution_count": 24
        }
      ]
    },
    {
      "cell_type": "markdown",
      "metadata": {
        "id": "GI-u2P023rMP",
        "colab_type": "text"
      },
      "source": [
        "Correlation matrix between numerical values:\n"
      ]
    },
    {
      "cell_type": "code",
      "metadata": {
        "id": "KfjR-BR-3sTM",
        "colab_type": "code",
        "colab": {
          "base_uri": "https://localhost:8080/",
          "height": 271
        },
        "outputId": "7594dbee-38f0-4f5a-cf15-183b523db2a4"
      },
      "source": [
        "g = sns.heatmap(data[[\"Survived\",\"SibSp\",\"Parch\",\"Age\",\"Fare\"]].corr(),annot=True, cmap = \"coolwarm\")"
      ],
      "execution_count": 29,
      "outputs": [
        {
          "output_type": "display_data",
          "data": {
            "image/png": "[encoded data removed]",
            "text/plain": [
              "<Figure size 432x288 with 2 Axes>"
            ]
          },
          "metadata": {
            "tags": []
          }
        }
      ]
    },
    {
      "cell_type": "markdown",
      "metadata": {
        "id": "1MjGDeMc67NM",
        "colab_type": "text"
      },
      "source": [
        "Correlations between numerical variables and Survived aren't so high but it doesn't mean that the other features are not useful.\n"
      ]
    },
    {
      "cell_type": "code",
      "metadata": {
        "id": "9HFCDyBw68nj",
        "colab_type": "code",
        "colab": {}
      },
      "source": [
        "def comparing(data,variable1, variable2):\n",
        "    print(data[[variable1, variable2]][data[variable2].isnull()==False].groupby([variable1], as_index=False).mean().sort_values(by=variable2, ascending=False))\n",
        "    g = sns.FacetGrid(data, col=variable2).map(sns.distplot, variable1)"
      ],
      "execution_count": 0,
      "outputs": []
    },
    {
      "cell_type": "code",
      "metadata": {
        "id": "niLI_DC97rWL",
        "colab_type": "code",
        "colab": {}
      },
      "source": [
        "def counting_values(data, variable1, variable2):\n",
        "    return data[[variable1, variable2]][data[variable2].isnull()==False].groupby([variable1], as_index=False).mean().sort_values(by=variable2, ascending=False)"
      ],
      "execution_count": 0,
      "outputs": []
    },
    {
      "cell_type": "markdown",
      "metadata": {
        "id": "jSqTg4K49el-",
        "colab_type": "text"
      },
      "source": [
        "Comparing data pairwise\n"
      ]
    },
    {
      "cell_type": "code",
      "metadata": {
        "id": "WgTSC1al9blr",
        "colab_type": "code",
        "colab": {
          "base_uri": "https://localhost:8080/",
          "height": 361
        },
        "outputId": "23a7e7c1-bbdb-4283-cf01-c87d43b42e27"
      },
      "source": [
        "comparing(data, 'SibSp','Survived')"
      ],
      "execution_count": 33,
      "outputs": [
        {
          "output_type": "stream",
          "text": [
            "   SibSp  Survived\n",
            "1      1  0.535885\n",
            "2      2  0.464286\n",
            "0      0  0.345395\n",
            "3      3  0.250000\n",
            "4      4  0.166667\n",
            "5      5  0.000000\n",
            "6      8  0.000000\n"
          ],
          "name": "stdout"
        },
        {
          "output_type": "display_data",
          "data": {
            "image/png": "[encoded data removed]",
            "text/plain": [
              "<Figure size 432x216 with 2 Axes>"
            ]
          },
          "metadata": {
            "tags": []
          }
        }
      ]
    },
    {
      "cell_type": "code",
      "metadata": {
        "id": "jBq5uCzo9pXZ",
        "colab_type": "code",
        "colab": {}
      },
      "source": [
        "comparing(data, 'Fare','Survived')"
      ],
      "execution_count": 0,
      "outputs": []
    },
    {
      "cell_type": "code",
      "metadata": {
        "id": "-PmkrblK9sI3",
        "colab_type": "code",
        "colab": {}
      },
      "source": [
        "comparing(data, 'Age','Survived')"
      ],
      "execution_count": 0,
      "outputs": []
    },
    {
      "cell_type": "code",
      "metadata": {
        "id": "fJZC49F4Ahjf",
        "colab_type": "code",
        "colab": {}
      },
      "source": [
        "comparing(data, 'Pclass','Survived')"
      ],
      "execution_count": 0,
      "outputs": []
    },
    {
      "cell_type": "code",
      "metadata": {
        "id": "hFZGaKmR-kFM",
        "colab_type": "code",
        "colab": {}
      },
      "source": [
        "counting_values(data, 'Sex','Survived')"
      ],
      "execution_count": 0,
      "outputs": []
    },
    {
      "cell_type": "markdown",
      "metadata": {
        "id": "O_ff4gQkAKCx",
        "colab_type": "text"
      },
      "source": [
        "Comparing text values \n"
      ]
    },
    {
      "cell_type": "code",
      "metadata": {
        "id": "QnYUrjKi-sRl",
        "colab_type": "code",
        "colab": {}
      },
      "source": [
        "counting_values(data, 'Sex','Survived')"
      ],
      "execution_count": 0,
      "outputs": []
    },
    {
      "cell_type": "code",
      "metadata": {
        "id": "JntWNhe_BegR",
        "colab_type": "code",
        "colab": {}
      },
      "source": [
        "grid = sns.FacetGrid(data, col='Survived', row='Pclass', size=2, aspect=1.6)\n",
        "grid.map(plt.hist, 'Age', alpha=.5, bins=20)"
      ],
      "execution_count": 0,
      "outputs": []
    },
    {
      "cell_type": "code",
      "metadata": {
        "id": "7VGfMUg4BgRs",
        "colab_type": "code",
        "colab": {}
      },
      "source": [
        "grid = sns.FacetGrid(data, row='Embarked', col='Survived', size=2, aspect=1.6)\n",
        "grid.map(sns.barplot, 'Sex', 'Fare', alpha=.5, ci=None)"
      ],
      "execution_count": 0,
      "outputs": []
    },
    {
      "cell_type": "markdown",
      "metadata": {
        "id": "0Z8Azr7nBn50",
        "colab_type": "text"
      },
      "source": [
        "Filling missing values"
      ]
    },
    {
      "cell_type": "code",
      "metadata": {
        "id": "ciVMNWr3BjV2",
        "colab_type": "code",
        "colab": {
          "base_uri": "https://localhost:8080/",
          "height": 238
        },
        "outputId": "673c27fb-d41e-42a3-a6c7-2126ee209e1f"
      },
      "source": [
        "data.isnull().sum()"
      ],
      "execution_count": 35,
      "outputs": [
        {
          "output_type": "execute_result",
          "data": {
            "text/plain": [
              "Age          263\n",
              "Cabin       1014\n",
              "Embarked       2\n",
              "Fare           1\n",
              "Name           0\n",
              "Parch          0\n",
              "Pclass         0\n",
              "Sex            0\n",
              "SibSp          0\n",
              "Survived     418\n",
              "Ticket         0\n",
              "train          0\n",
              "dtype: int64"
            ]
          },
          "metadata": {
            "tags": []
          },
          "execution_count": 35
        }
      ]
    },
    {
      "cell_type": "markdown",
      "metadata": {
        "id": "O6xLnGK1CBNn",
        "colab_type": "text"
      },
      "source": [
        "There are 263 missing ages, 1014 missing cabins. Age is very important variable, so it's worth spending time to imput them. If it comes to imputing cabins - it's too hard to do because dataset has only 1309 observations so 77% cabins are missing.\n",
        "\n",
        "Missing values in Embarked and Fare variables are very easy to imput because we can use the most popular value or something like that.\n",
        "\n",
        "I'm gonna replace missing value in Fare with 0 and in Embarked with the most popular value ('S')."
      ]
    },
    {
      "cell_type": "code",
      "metadata": {
        "id": "delIXABjBx__",
        "colab_type": "code",
        "colab": {
          "base_uri": "https://localhost:8080/",
          "height": 102
        },
        "outputId": "2348e135-84cd-44fd-faa8-b7954aa095c1"
      },
      "source": [
        "data.groupby('Pclass').Fare.mean()"
      ],
      "execution_count": 36,
      "outputs": [
        {
          "output_type": "execute_result",
          "data": {
            "text/plain": [
              "Pclass\n",
              "1    87.508992\n",
              "2    21.179196\n",
              "3    13.302889\n",
              "Name: Fare, dtype: float64"
            ]
          },
          "metadata": {
            "tags": []
          },
          "execution_count": 36
        }
      ]
    },
    {
      "cell_type": "code",
      "metadata": {
        "id": "13fljjnhN2bj",
        "colab_type": "code",
        "colab": {}
      },
      "source": [
        "data.Fare = data.Fare.fillna(0)"
      ],
      "execution_count": 0,
      "outputs": []
    },
    {
      "cell_type": "code",
      "metadata": {
        "id": "RP2B3UtiN5LR",
        "colab_type": "code",
        "colab": {
          "base_uri": "https://localhost:8080/",
          "height": 85
        },
        "outputId": "ad9726d5-5a92-4ae1-aead-4c1410be9aa6"
      },
      "source": [
        "print(data.Embarked.value_counts())\n",
        "data.Embarked = data.Embarked.fillna('S')"
      ],
      "execution_count": 38,
      "outputs": [
        {
          "output_type": "stream",
          "text": [
            "S    914\n",
            "C    270\n",
            "Q    123\n",
            "Name: Embarked, dtype: int64\n"
          ],
          "name": "stdout"
        }
      ]
    },
    {
      "cell_type": "markdown",
      "metadata": {
        "id": "7sNCOtXxOJrK",
        "colab_type": "text"
      },
      "source": [
        "If it comes to Cabin variable, I'm gonna fill up NaN values with 'Unknown' and get first letter from every Cabin in dataset."
      ]
    },
    {
      "cell_type": "code",
      "metadata": {
        "id": "Ty8csHX4N8ZJ",
        "colab_type": "code",
        "colab": {}
      },
      "source": [
        "data.Cabin = data.Cabin.fillna('Unknown')\n",
        "data['Cabin'] = data['Cabin'].str[0]"
      ],
      "execution_count": 0,
      "outputs": []
    },
    {
      "cell_type": "markdown",
      "metadata": {
        "id": "2Yug22KvONui",
        "colab_type": "text"
      },
      "source": [
        "Let's check the distribution of the cabins in individual passenger classes."
      ]
    },
    {
      "cell_type": "code",
      "metadata": {
        "id": "hXjxkEBXN_uB",
        "colab_type": "code",
        "colab": {}
      },
      "source": [
        "data.groupby('Pclass').Cabin.value_counts()"
      ],
      "execution_count": 0,
      "outputs": []
    },
    {
      "cell_type": "markdown",
      "metadata": {
        "id": "kRg7acO-OS-R",
        "colab_type": "text"
      },
      "source": [
        "The Cabin 'Unknown' will be set to C for the first class, D for the second class and G for the third class. One observation with Cabin 'T' and first class I'll fix with C."
      ]
    },
    {
      "cell_type": "code",
      "metadata": {
        "id": "ca6WlaCCOUZ2",
        "colab_type": "code",
        "colab": {}
      },
      "source": [
        "data['Cabin'] = np.where((data.Pclass==1) & (data.Cabin=='U'),'C',\n",
        "                                            np.where((data.Pclass==2) & (data.Cabin=='U'),'D',\n",
        "                                                                        np.where((data.Pclass==3) & (data.Cabin=='U'),'G',\n",
        "                                                                                                    np.where(data.Cabin=='T','C',data.Cabin))))"
      ],
      "execution_count": 0,
      "outputs": []
    },
    {
      "cell_type": "markdown",
      "metadata": {
        "id": "CeuAHWyYOYfA",
        "colab_type": "text"
      },
      "source": [
        "Now I'm gonna get title from each Name in dataset. This variable will be very useful and it can help to imput missing value in Age. People's titles can represent their age, earnings and life status and all these three properties can be associated with the possibility of survival on a ship."
      ]
    },
    {
      "cell_type": "code",
      "metadata": {
        "id": "XMVpyEphOdf_",
        "colab_type": "code",
        "colab": {}
      },
      "source": [
        "data['Title'] = data.Name.str.extract(' ([A-Za-z]+)\\.', expand=False)\n",
        "\n",
        "pd.crosstab(data['Title'], data['Sex'])\n",
        "data = data.drop('Name',axis=1)"
      ],
      "execution_count": 0,
      "outputs": []
    },
    {
      "cell_type": "markdown",
      "metadata": {
        "id": "h7xnOiI8ObjU",
        "colab_type": "text"
      },
      "source": [
        "I need to replace a few titles with 'other' values because these titles are not as popular and have a low frequency of occurrence in this dataset."
      ]
    },
    {
      "cell_type": "code",
      "metadata": {
        "id": "12lZXmvCOhWG",
        "colab_type": "code",
        "colab": {}
      },
      "source": [
        "#let's replace a few titles -> \"other\" and fix a few titles\n",
        "data['Title'] = np.where((data.Title=='Capt') | (data.Title=='Countess') | (data.Title=='Don') | (data.Title=='Dona')\n",
        "                        | (data.Title=='Jonkheer') | (data.Title=='Lady') | (data.Title=='Sir') | (data.Title=='Major') | (data.Title=='Rev') | (data.Title=='Col'),'Other',data.Title)\n",
        "\n",
        "data['Title'] = data['Title'].replace('Ms','Miss')\n",
        "data['Title'] = data['Title'].replace('Mlle','Miss')\n",
        "data['Title'] = data['Title'].replace('Mme','Mrs')"
      ],
      "execution_count": 0,
      "outputs": []
    },
    {
      "cell_type": "markdown",
      "metadata": {
        "id": "A8pQmFnhOlg3",
        "colab_type": "text"
      },
      "source": [
        "Let's check how the distribution of survival variable depending on the title."
      ]
    },
    {
      "cell_type": "code",
      "metadata": {
        "id": "WuMntNF1Ojpl",
        "colab_type": "code",
        "colab": {
          "base_uri": "https://localhost:8080/",
          "height": 333
        },
        "outputId": "93b71efb-9f95-4370-8210-fc06e29cb8df"
      },
      "source": [
        "data[['Title', 'Survived']].groupby(['Title'], as_index=False).mean()\n",
        "facet = sns.FacetGrid(data = data, hue = \"Title\", legend_out=True, size = 4.5)\n",
        "facet = facet.map(sns.kdeplot, \"Age\")\n",
        "facet.add_legend();"
      ],
      "execution_count": 43,
      "outputs": [
        {
          "output_type": "display_data",
          "data": {
            "image/png": "[encoded data removed]",
            "text/plain": [
              "<Figure size 394.125x324 with 1 Axes>"
            ]
          },
          "metadata": {
            "tags": []
          }
        }
      ]
    },
    {
      "cell_type": "markdown",
      "metadata": {
        "id": "ii2M87eMOn-n",
        "colab_type": "text"
      },
      "source": [
        "People with 'Master' have the highest survival rate. Maybe because people with the master are mainly boys under 13 years old.\n",
        "\n",
        "Let's see distributions on box plots."
      ]
    },
    {
      "cell_type": "code",
      "metadata": {
        "id": "GpXNxckIOqZR",
        "colab_type": "code",
        "colab": {}
      },
      "source": [
        "sns.boxplot(data = data, x = \"Title\", y = \"Age\")"
      ],
      "execution_count": 0,
      "outputs": []
    },
    {
      "cell_type": "code",
      "metadata": {
        "id": "o4mf6_pIOuvP",
        "colab_type": "code",
        "colab": {}
      },
      "source": [
        "facet = sns.FacetGrid(data, hue=\"Survived\",aspect=3)\n",
        "facet.map(sns.kdeplot,'Age',shade= True)\n",
        "facet.set(xlim=(0, data['Age'].max()))\n",
        "facet.add_legend()"
      ],
      "execution_count": 0,
      "outputs": []
    },
    {
      "cell_type": "markdown",
      "metadata": {
        "id": "tEwz4FOUOxx2",
        "colab_type": "text"
      },
      "source": [
        "Age has a very large impact on the survival rate, but when this variable has missing values - it is useless. I'm gonna impute the missing values using the average age values in particular groups due to the titles."
      ]
    },
    {
      "cell_type": "code",
      "metadata": {
        "id": "isL7SlRkOzQK",
        "colab_type": "code",
        "colab": {
          "base_uri": "https://localhost:8080/",
          "height": 153
        },
        "outputId": "8c41efff-d325-47be-f23b-b0fd74d611a5"
      },
      "source": [
        "data.groupby('Title').Age.mean()"
      ],
      "execution_count": 44,
      "outputs": [
        {
          "output_type": "execute_result",
          "data": {
            "text/plain": [
              "Title\n",
              "Dr        43.571429\n",
              "Master     5.482642\n",
              "Miss      21.824366\n",
              "Mr        32.252151\n",
              "Mrs       36.918129\n",
              "Other     45.714286\n",
              "Name: Age, dtype: float64"
            ]
          },
          "metadata": {
            "tags": []
          },
          "execution_count": 44
        }
      ]
    },
    {
      "cell_type": "code",
      "metadata": {
        "id": "wpy-ikYUO1AW",
        "colab_type": "code",
        "colab": {}
      },
      "source": [
        "data['Age'] = np.where((data.Age.isnull()) & (data.Title=='Master'),5,\n",
        "                        np.where((data.Age.isnull()) & (data.Title=='Miss'),22,\n",
        "                                 np.where((data.Age.isnull()) & (data.Title=='Mr'),32,\n",
        "                                          np.where((data.Age.isnull()) & (data.Title=='Mrs'),37,\n",
        "                                                  np.where((data.Age.isnull()) & (data.Title=='Other'),45,\n",
        "                                                           np.where((data.Age.isnull()) & (data.Title=='Dr'),44,data.Age))))))"
      ],
      "execution_count": 0,
      "outputs": []
    },
    {
      "cell_type": "markdown",
      "metadata": {
        "id": "TrofL6djOsTB",
        "colab_type": "text"
      },
      "source": [
        "A few new variables:"
      ]
    },
    {
      "cell_type": "markdown",
      "metadata": {
        "id": "krtc8p9cWBuT",
        "colab_type": "text"
      },
      "source": [
        "FamilySize - number of family members, people travelling alone will have a value of 1\n",
        "Women - it depends on Sex variable but I'm making it in binary way\n",
        "Mother - women with Mrs title and at least 1 parch, women, children and mothers probably have a survival factor\n",
        "Free - people who don't need to pay fare, these people could win tickets or something like that, they can have a similar survival rate\n",
        "TypeOfTicket - prefixes of ticket, tickets with same prefixes may have a similar class and survival.\n",
        "\n",
        "If it comes to TypeOfTicket variable I'm gonna also replace a few values of this variable with 'other' values, relying on the same as in the case of titles.\n",
        "\n"
      ]
    },
    {
      "cell_type": "code",
      "metadata": {
        "id": "VG2vSML8PBqO",
        "colab_type": "code",
        "colab": {}
      },
      "source": [
        "data['FamilySize'] = data.SibSp + data.Parch + 1\n",
        "data['Mother'] = np.where((data.Title=='Mrs') & (data.Parch >0),1,0)\n",
        "data['Free'] = np.where(data['Fare']==0, 1,0)\n",
        "data = data.drop(['SibSp','Parch','Sex'],axis=1)"
      ],
      "execution_count": 0,
      "outputs": []
    },
    {
      "cell_type": "code",
      "metadata": {
        "id": "jEyQVv6sPDmf",
        "colab_type": "code",
        "colab": {}
      },
      "source": [
        "import string\n",
        "TypeOfTicket = []\n",
        "for i in range(len(data.Ticket)):\n",
        "    ticket = data.Ticket.iloc[i]\n",
        "    for c in string.punctuation:\n",
        "                ticket = ticket.replace(c,\"\")\n",
        "                splited_ticket = ticket.split(\" \")   \n",
        "    if len(splited_ticket) == 1:\n",
        "                TypeOfTicket.append('NO')\n",
        "    else: \n",
        "                TypeOfTicket.append(splited_ticket[0])\n",
        "            \n",
        "data['TypeOfTicket'] = TypeOfTicket\n",
        "\n",
        "data.TypeOfTicket.value_counts()\n",
        "data['TypeOfTicket'] = np.where((data.TypeOfTicket!='NO') & (data.TypeOfTicket!='PC') & (data.TypeOfTicket!='CA') & \n",
        "                                (data.TypeOfTicket!='A5') & (data.TypeOfTicket!='SOTONOQ'),'other',data.TypeOfTicket)\n",
        "data = data.drop('Ticket',axis=1)"
      ],
      "execution_count": 0,
      "outputs": []
    },
    {
      "cell_type": "code",
      "metadata": {
        "id": "0TF0mYNoPFjn",
        "colab_type": "code",
        "colab": {}
      },
      "source": [
        "comparing(data, 'FamilySize','Survived')"
      ],
      "execution_count": 0,
      "outputs": []
    },
    {
      "cell_type": "code",
      "metadata": {
        "id": "Ds-k61eEPIdb",
        "colab_type": "code",
        "colab": {}
      },
      "source": [
        "counting_values(data, 'Title','Survived')"
      ],
      "execution_count": 0,
      "outputs": []
    },
    {
      "cell_type": "code",
      "metadata": {
        "id": "AMXT4i1SPKnv",
        "colab_type": "code",
        "colab": {}
      },
      "source": [
        "counting_values(data, 'TypeOfTicket','Survived')"
      ],
      "execution_count": 0,
      "outputs": []
    },
    {
      "cell_type": "code",
      "metadata": {
        "id": "LehhIq5qPMe_",
        "colab_type": "code",
        "colab": {}
      },
      "source": [
        "counting_values(data, 'Cabin','Survived')"
      ],
      "execution_count": 0,
      "outputs": []
    },
    {
      "cell_type": "code",
      "metadata": {
        "id": "hADeJ6VFPOWP",
        "colab_type": "code",
        "colab": {}
      },
      "source": [
        "comparing(data, 'Mother','Survived')"
      ],
      "execution_count": 0,
      "outputs": []
    },
    {
      "cell_type": "code",
      "metadata": {
        "id": "nWZHDUTrPQCH",
        "colab_type": "code",
        "colab": {}
      },
      "source": [
        "comparing(data, 'Free','Survived')"
      ],
      "execution_count": 0,
      "outputs": []
    },
    {
      "cell_type": "code",
      "metadata": {
        "id": "yLsfI-fOPRqU",
        "colab_type": "code",
        "colab": {}
      },
      "source": [
        "bins = [0,12,24,45,60,data.Age.max()]\n",
        "labels = ['Child', 'Young Adult', 'Adult','Older Adult','Senior']\n",
        "data[\"Age\"] = pd.cut(data[\"Age\"], bins, labels = labels)"
      ],
      "execution_count": 0,
      "outputs": []
    },
    {
      "cell_type": "markdown",
      "metadata": {
        "id": "bGSxjR3mPXQJ",
        "colab_type": "text"
      },
      "source": [
        "I create dummy variables for all variables with categories using the function get_dummies from pandas."
      ]
    },
    {
      "cell_type": "code",
      "metadata": {
        "id": "XMJ-1tN5PYD6",
        "colab_type": "code",
        "colab": {}
      },
      "source": [
        "data = pd.get_dummies(data)"
      ],
      "execution_count": 0,
      "outputs": []
    },
    {
      "cell_type": "markdown",
      "metadata": {
        "id": "Vhp3ebmHPfac",
        "colab_type": "text"
      },
      "source": [
        "**Modeling**\n",
        "\n",
        "Decision Tree Classifier\n",
        "\n",
        "Random Forest Classifier\n",
        "\n",
        "KNeighbors Classifier\n",
        "\n",
        "SVM\n",
        "\n",
        "Logistic Regression\n",
        "\n",
        "XGB Classifier\n",
        "\n",
        "To check how good each model is I'm gonna split dataset to train (70%) and test (30%) dataset (excluding missing values in Survived variable) and use Accuracy Score from sklearn.metrics. I set random_state to 2019 in order to compare the results between the models.**bold text**"
      ]
    },
    {
      "cell_type": "code",
      "metadata": {
        "id": "dcjzylCLPVU5",
        "colab_type": "code",
        "colab": {}
      },
      "source": [
        "from sklearn.model_selection import train_test_split\n",
        "trainX, testX, trainY, testY = train_test_split(data[data.Survived.isnull()==False].drop('Survived',axis=1),data.Survived[data.Survived.isnull()==False],test_size=0.30, random_state=2019)"
      ],
      "execution_count": 0,
      "outputs": []
    },
    {
      "cell_type": "markdown",
      "metadata": {
        "id": "pG3WYOjaQLrC",
        "colab_type": "text"
      },
      "source": [
        "I'm gonna to put result of each model in Data Frame 'Results'"
      ]
    },
    {
      "cell_type": "code",
      "metadata": {
        "id": "eOLFiqJJP_rs",
        "colab_type": "code",
        "colab": {}
      },
      "source": [
        "Results = pd.DataFrame({'Model': [],'Accuracy Score': []})"
      ],
      "execution_count": 0,
      "outputs": []
    },
    {
      "cell_type": "markdown",
      "metadata": {
        "id": "rGD-6t_BQPXC",
        "colab_type": "text"
      },
      "source": [
        "Decision Tree Classifier\n",
        "\n"
      ]
    },
    {
      "cell_type": "code",
      "metadata": {
        "id": "E-c124w_QQYD",
        "colab_type": "code",
        "colab": {}
      },
      "source": [
        "from sklearn.tree import DecisionTreeClassifier\n",
        "model = DecisionTreeClassifier(max_depth=4)\n",
        "model.fit(trainX, trainY)\n",
        "y_pred = model.predict(testX)\n",
        "from sklearn.metrics import accuracy_score\n",
        "res = pd.DataFrame({\"Model\":['DecisionTreeClassifier'],\n",
        "                    \"Accuracy Score\": [accuracy_score(y_pred,testY)]})\n",
        "Results = Results.append(res)"
      ],
      "execution_count": 0,
      "outputs": []
    },
    {
      "cell_type": "code",
      "metadata": {
        "id": "sSpdFCzKQVRu",
        "colab_type": "code",
        "colab": {
          "base_uri": "https://localhost:8080/",
          "height": 142
        },
        "outputId": "bf7a9fba-12c9-4193-9538-04ef3639b1a1"
      },
      "source": [
        "pd.crosstab(testY, y_pred, rownames=['Real data'], colnames=['Predicted'])"
      ],
      "execution_count": 54,
      "outputs": [
        {
          "output_type": "execute_result",
          "data": {
            "text/html": [
              "<div>\n",
              "<style scoped>\n",
              "    .dataframe tbody tr th:only-of-type {\n",
              "        vertical-align: middle;\n",
              "    }\n",
              "\n",
              "    .dataframe tbody tr th {\n",
              "        vertical-align: top;\n",
              "    }\n",
              "\n",
              "    .dataframe thead th {\n",
              "        text-align: right;\n",
              "    }\n",
              "</style>\n",
              "<table border=\"1\" class=\"dataframe\">\n",
              "  <thead>\n",
              "    <tr style=\"text-align: right;\">\n",
              "      <th>Predicted</th>\n",
              "      <th>0.0</th>\n",
              "      <th>1.0</th>\n",
              "    </tr>\n",
              "    <tr>\n",
              "      <th>Real data</th>\n",
              "      <th></th>\n",
              "      <th></th>\n",
              "    </tr>\n",
              "  </thead>\n",
              "  <tbody>\n",
              "    <tr>\n",
              "      <th>0.0</th>\n",
              "      <td>154</td>\n",
              "      <td>22</td>\n",
              "    </tr>\n",
              "    <tr>\n",
              "      <th>1.0</th>\n",
              "      <td>21</td>\n",
              "      <td>71</td>\n",
              "    </tr>\n",
              "  </tbody>\n",
              "</table>\n",
              "</div>"
            ],
            "text/plain": [
              "Predicted  0.0  1.0\n",
              "Real data          \n",
              "0.0        154   22\n",
              "1.0         21   71"
            ]
          },
          "metadata": {
            "tags": []
          },
          "execution_count": 54
        }
      ]
    },
    {
      "cell_type": "markdown",
      "metadata": {
        "id": "7GDaDdq6QSW5",
        "colab_type": "text"
      },
      "source": [
        "Random Forest Classifier"
      ]
    },
    {
      "cell_type": "code",
      "metadata": {
        "id": "zhPrv29IQYQU",
        "colab_type": "code",
        "colab": {}
      },
      "source": [
        "from sklearn.ensemble import RandomForestClassifier\n",
        "model = RandomForestClassifier(n_estimators=2500, max_depth=4)\n",
        "model.fit(trainX, trainY)\n",
        "y_pred = model.predict(testX)\n",
        "from sklearn.metrics import accuracy_score\n",
        "res = pd.DataFrame({\"Model\":['RandomForestClassifier'],\n",
        "                    \"Accuracy Score\": [accuracy_score(y_pred,testY)]})\n",
        "Results = Results.append(res)"
      ],
      "execution_count": 0,
      "outputs": []
    },
    {
      "cell_type": "code",
      "metadata": {
        "id": "0h_VNKcXQaDn",
        "colab_type": "code",
        "colab": {
          "base_uri": "https://localhost:8080/",
          "height": 142
        },
        "outputId": "793bfee0-7309-4f14-ca55-b2dcfb31c76e"
      },
      "source": [
        "pd.crosstab(testY, y_pred, rownames=['Real data'], colnames=['Predicted'])"
      ],
      "execution_count": 57,
      "outputs": [
        {
          "output_type": "execute_result",
          "data": {
            "text/html": [
              "<div>\n",
              "<style scoped>\n",
              "    .dataframe tbody tr th:only-of-type {\n",
              "        vertical-align: middle;\n",
              "    }\n",
              "\n",
              "    .dataframe tbody tr th {\n",
              "        vertical-align: top;\n",
              "    }\n",
              "\n",
              "    .dataframe thead th {\n",
              "        text-align: right;\n",
              "    }\n",
              "</style>\n",
              "<table border=\"1\" class=\"dataframe\">\n",
              "  <thead>\n",
              "    <tr style=\"text-align: right;\">\n",
              "      <th>Predicted</th>\n",
              "      <th>0.0</th>\n",
              "      <th>1.0</th>\n",
              "    </tr>\n",
              "    <tr>\n",
              "      <th>Real data</th>\n",
              "      <th></th>\n",
              "      <th></th>\n",
              "    </tr>\n",
              "  </thead>\n",
              "  <tbody>\n",
              "    <tr>\n",
              "      <th>0.0</th>\n",
              "      <td>162</td>\n",
              "      <td>14</td>\n",
              "    </tr>\n",
              "    <tr>\n",
              "      <th>1.0</th>\n",
              "      <td>29</td>\n",
              "      <td>63</td>\n",
              "    </tr>\n",
              "  </tbody>\n",
              "</table>\n",
              "</div>"
            ],
            "text/plain": [
              "Predicted  0.0  1.0\n",
              "Real data          \n",
              "0.0        162   14\n",
              "1.0         29   63"
            ]
          },
          "metadata": {
            "tags": []
          },
          "execution_count": 57
        }
      ]
    },
    {
      "cell_type": "markdown",
      "metadata": {
        "id": "Y5lIk3v2Qb44",
        "colab_type": "text"
      },
      "source": [
        "KNeighbors Classifier"
      ]
    },
    {
      "cell_type": "code",
      "metadata": {
        "id": "PUcFJzRTQdqA",
        "colab_type": "code",
        "colab": {}
      },
      "source": [
        "from sklearn.neighbors import KNeighborsClassifier\n",
        "model = KNeighborsClassifier()\n",
        "model.fit(trainX, trainY)\n",
        "y_pred = model.predict(testX)\n",
        "from sklearn.metrics import accuracy_score\n",
        "res = pd.DataFrame({\"Model\":['KNeighborsClassifier'],\n",
        "                    \"Accuracy Score\": [accuracy_score(y_pred,testY)]})\n",
        "Results = Results.append(res)"
      ],
      "execution_count": 0,
      "outputs": []
    },
    {
      "cell_type": "code",
      "metadata": {
        "id": "WhxsOwaEQfV1",
        "colab_type": "code",
        "colab": {
          "base_uri": "https://localhost:8080/",
          "height": 142
        },
        "outputId": "46622b79-6c92-48f2-d7c0-bae5876748ed"
      },
      "source": [
        "pd.crosstab(testY, y_pred, rownames=['Real data'], colnames=['Predicted'])"
      ],
      "execution_count": 60,
      "outputs": [
        {
          "output_type": "execute_result",
          "data": {
            "text/html": [
              "<div>\n",
              "<style scoped>\n",
              "    .dataframe tbody tr th:only-of-type {\n",
              "        vertical-align: middle;\n",
              "    }\n",
              "\n",
              "    .dataframe tbody tr th {\n",
              "        vertical-align: top;\n",
              "    }\n",
              "\n",
              "    .dataframe thead th {\n",
              "        text-align: right;\n",
              "    }\n",
              "</style>\n",
              "<table border=\"1\" class=\"dataframe\">\n",
              "  <thead>\n",
              "    <tr style=\"text-align: right;\">\n",
              "      <th>Predicted</th>\n",
              "      <th>0.0</th>\n",
              "      <th>1.0</th>\n",
              "    </tr>\n",
              "    <tr>\n",
              "      <th>Real data</th>\n",
              "      <th></th>\n",
              "      <th></th>\n",
              "    </tr>\n",
              "  </thead>\n",
              "  <tbody>\n",
              "    <tr>\n",
              "      <th>0.0</th>\n",
              "      <td>138</td>\n",
              "      <td>38</td>\n",
              "    </tr>\n",
              "    <tr>\n",
              "      <th>1.0</th>\n",
              "      <td>36</td>\n",
              "      <td>56</td>\n",
              "    </tr>\n",
              "  </tbody>\n",
              "</table>\n",
              "</div>"
            ],
            "text/plain": [
              "Predicted  0.0  1.0\n",
              "Real data          \n",
              "0.0        138   38\n",
              "1.0         36   56"
            ]
          },
          "metadata": {
            "tags": []
          },
          "execution_count": 60
        }
      ]
    },
    {
      "cell_type": "markdown",
      "metadata": {
        "id": "qIfAuQPHQhAD",
        "colab_type": "text"
      },
      "source": [
        "SVM"
      ]
    },
    {
      "cell_type": "code",
      "metadata": {
        "id": "gS3gpllYQi34",
        "colab_type": "code",
        "colab": {}
      },
      "source": [
        "from sklearn.svm import SVC\n",
        "model = SVC()\n",
        "model.fit(trainX, trainY)\n",
        "y_pred = model.predict(testX)\n",
        "from sklearn.metrics import accuracy_score\n",
        "res = pd.DataFrame({\"Model\":['SVC'],\n",
        "                    \"Accuracy Score\": [accuracy_score(y_pred,testY)]})\n",
        "Results = Results.append(res)"
      ],
      "execution_count": 0,
      "outputs": []
    },
    {
      "cell_type": "code",
      "metadata": {
        "id": "W1eyiOErQnF9",
        "colab_type": "code",
        "colab": {
          "base_uri": "https://localhost:8080/",
          "height": 142
        },
        "outputId": "0cf36556-1f40-418f-c5a4-968006ef2c02"
      },
      "source": [
        "pd.crosstab(testY, y_pred, rownames=['Real data'], colnames=['Predicted'])"
      ],
      "execution_count": 62,
      "outputs": [
        {
          "output_type": "execute_result",
          "data": {
            "text/html": [
              "<div>\n",
              "<style scoped>\n",
              "    .dataframe tbody tr th:only-of-type {\n",
              "        vertical-align: middle;\n",
              "    }\n",
              "\n",
              "    .dataframe tbody tr th {\n",
              "        vertical-align: top;\n",
              "    }\n",
              "\n",
              "    .dataframe thead th {\n",
              "        text-align: right;\n",
              "    }\n",
              "</style>\n",
              "<table border=\"1\" class=\"dataframe\">\n",
              "  <thead>\n",
              "    <tr style=\"text-align: right;\">\n",
              "      <th>Predicted</th>\n",
              "      <th>0.0</th>\n",
              "      <th>1.0</th>\n",
              "    </tr>\n",
              "    <tr>\n",
              "      <th>Real data</th>\n",
              "      <th></th>\n",
              "      <th></th>\n",
              "    </tr>\n",
              "  </thead>\n",
              "  <tbody>\n",
              "    <tr>\n",
              "      <th>0.0</th>\n",
              "      <td>127</td>\n",
              "      <td>49</td>\n",
              "    </tr>\n",
              "    <tr>\n",
              "      <th>1.0</th>\n",
              "      <td>18</td>\n",
              "      <td>74</td>\n",
              "    </tr>\n",
              "  </tbody>\n",
              "</table>\n",
              "</div>"
            ],
            "text/plain": [
              "Predicted  0.0  1.0\n",
              "Real data          \n",
              "0.0        127   49\n",
              "1.0         18   74"
            ]
          },
          "metadata": {
            "tags": []
          },
          "execution_count": 62
        }
      ]
    },
    {
      "cell_type": "markdown",
      "metadata": {
        "id": "jLKuJDZAQlfy",
        "colab_type": "text"
      },
      "source": [
        "Logistic Regression"
      ]
    },
    {
      "cell_type": "code",
      "metadata": {
        "id": "MPFOi5zIQppg",
        "colab_type": "code",
        "colab": {}
      },
      "source": [
        "from sklearn.linear_model import LogisticRegression\n",
        "model = LogisticRegression()\n",
        "model.fit(trainX, trainY)\n",
        "y_pred = model.predict(testX)\n",
        "from sklearn.metrics import accuracy_score\n",
        "res = pd.DataFrame({\"Model\":['LogisticRegression'],\n",
        "                    \"Accuracy Score\": [accuracy_score(y_pred,testY)]})\n",
        "Results = Results.append(res)"
      ],
      "execution_count": 0,
      "outputs": []
    },
    {
      "cell_type": "code",
      "metadata": {
        "id": "wFPtVRixQr02",
        "colab_type": "code",
        "colab": {
          "base_uri": "https://localhost:8080/",
          "height": 142
        },
        "outputId": "2925e96e-60b6-4315-e034-bc5f1235bac1"
      },
      "source": [
        "pd.crosstab(testY, y_pred, rownames=['Real data'], colnames=['Predicted'])"
      ],
      "execution_count": 65,
      "outputs": [
        {
          "output_type": "execute_result",
          "data": {
            "text/html": [
              "<div>\n",
              "<style scoped>\n",
              "    .dataframe tbody tr th:only-of-type {\n",
              "        vertical-align: middle;\n",
              "    }\n",
              "\n",
              "    .dataframe tbody tr th {\n",
              "        vertical-align: top;\n",
              "    }\n",
              "\n",
              "    .dataframe thead th {\n",
              "        text-align: right;\n",
              "    }\n",
              "</style>\n",
              "<table border=\"1\" class=\"dataframe\">\n",
              "  <thead>\n",
              "    <tr style=\"text-align: right;\">\n",
              "      <th>Predicted</th>\n",
              "      <th>0.0</th>\n",
              "      <th>1.0</th>\n",
              "    </tr>\n",
              "    <tr>\n",
              "      <th>Real data</th>\n",
              "      <th></th>\n",
              "      <th></th>\n",
              "    </tr>\n",
              "  </thead>\n",
              "  <tbody>\n",
              "    <tr>\n",
              "      <th>0.0</th>\n",
              "      <td>153</td>\n",
              "      <td>23</td>\n",
              "    </tr>\n",
              "    <tr>\n",
              "      <th>1.0</th>\n",
              "      <td>23</td>\n",
              "      <td>69</td>\n",
              "    </tr>\n",
              "  </tbody>\n",
              "</table>\n",
              "</div>"
            ],
            "text/plain": [
              "Predicted  0.0  1.0\n",
              "Real data          \n",
              "0.0        153   23\n",
              "1.0         23   69"
            ]
          },
          "metadata": {
            "tags": []
          },
          "execution_count": 65
        }
      ]
    },
    {
      "cell_type": "markdown",
      "metadata": {
        "id": "oPnBL-WZQt_8",
        "colab_type": "text"
      },
      "source": [
        "XGB Classifier\n",
        "\n",
        "I put here some hyper-parameters tuning with n_estmators, max_depth and learning_rate parameters"
      ]
    },
    {
      "cell_type": "code",
      "metadata": {
        "id": "OX1VcwdYQweA",
        "colab_type": "code",
        "colab": {}
      },
      "source": [
        "from xgboost.sklearn import XGBClassifier\n",
        "model = XGBClassifier(learning_rate=0.001,n_estimators=2500,\n",
        "                                max_depth=4, min_child_weight=0,\n",
        "                                gamma=0, subsample=0.7,\n",
        "                                colsample_bytree=0.7,\n",
        "                                scale_pos_weight=1, seed=27,\n",
        "                                reg_alpha=0.00006)\n",
        "model.fit(trainX, trainY)\n",
        "y_pred = model.predict(testX)\n",
        "from sklearn.metrics import accuracy_score\n",
        "res = pd.DataFrame({\"Model\":['XGBClassifier'],\n",
        "                    \"Accuracy Score\": [accuracy_score(y_pred,testY)]})\n",
        "Results = Results.append(res)"
      ],
      "execution_count": 0,
      "outputs": []
    },
    {
      "cell_type": "code",
      "metadata": {
        "id": "A0Lyzlz-Q4CB",
        "colab_type": "code",
        "colab": {
          "base_uri": "https://localhost:8080/",
          "height": 142
        },
        "outputId": "a96c0208-c1c7-4d60-ea34-a9a14c0394ba"
      },
      "source": [
        "pd.crosstab(testY, y_pred, rownames=['Real data'], colnames=['Predicted'])"
      ],
      "execution_count": 68,
      "outputs": [
        {
          "output_type": "execute_result",
          "data": {
            "text/html": [
              "<div>\n",
              "<style scoped>\n",
              "    .dataframe tbody tr th:only-of-type {\n",
              "        vertical-align: middle;\n",
              "    }\n",
              "\n",
              "    .dataframe tbody tr th {\n",
              "        vertical-align: top;\n",
              "    }\n",
              "\n",
              "    .dataframe thead th {\n",
              "        text-align: right;\n",
              "    }\n",
              "</style>\n",
              "<table border=\"1\" class=\"dataframe\">\n",
              "  <thead>\n",
              "    <tr style=\"text-align: right;\">\n",
              "      <th>Predicted</th>\n",
              "      <th>0.0</th>\n",
              "      <th>1.0</th>\n",
              "    </tr>\n",
              "    <tr>\n",
              "      <th>Real data</th>\n",
              "      <th></th>\n",
              "      <th></th>\n",
              "    </tr>\n",
              "  </thead>\n",
              "  <tbody>\n",
              "    <tr>\n",
              "      <th>0.0</th>\n",
              "      <td>155</td>\n",
              "      <td>21</td>\n",
              "    </tr>\n",
              "    <tr>\n",
              "      <th>1.0</th>\n",
              "      <td>22</td>\n",
              "      <td>70</td>\n",
              "    </tr>\n",
              "  </tbody>\n",
              "</table>\n",
              "</div>"
            ],
            "text/plain": [
              "Predicted  0.0  1.0\n",
              "Real data          \n",
              "0.0        155   21\n",
              "1.0         22   70"
            ]
          },
          "metadata": {
            "tags": []
          },
          "execution_count": 68
        }
      ]
    },
    {
      "cell_type": "code",
      "metadata": {
        "id": "MNMtnbflQ72I",
        "colab_type": "code",
        "colab": {}
      },
      "source": [
        "Results"
      ],
      "execution_count": 0,
      "outputs": []
    },
    {
      "cell_type": "code",
      "metadata": {
        "id": "jkwTTqXARJpN",
        "colab_type": "code",
        "colab": {}
      },
      "source": [
        "from xgboost.sklearn import XGBClassifier\n",
        "from sklearn.model_selection import train_test_split\n",
        "trainX = data[data.Survived.isnull()==False].drop(['Survived','train'],axis=1)\n",
        "trainY = data.Survived[data.Survived.isnull()==False]\n",
        "testX = data[data.Survived.isnull()==True].drop(['Survived','train'],axis=1)\n",
        "model = XGBClassifier(learning_rate=0.001,n_estimators=2500,\n",
        "                                max_depth=4, min_child_weight=0,\n",
        "                                gamma=0, subsample=0.7,\n",
        "                                colsample_bytree=0.7,\n",
        "                                scale_pos_weight=1, seed=27,\n",
        "                                reg_alpha=0.00006)\n",
        "model.fit(trainX, trainY)\n",
        "test = data[data.train==0]\n",
        "test['Survived'] = model.predict(testX).astype(int)\n",
        "test = test.reset_index()\n",
        "test[['PassengerId','Survived']].to_csv(\"submissionXGB.csv\",index=False)\n",
        "print(\"done1\")"
      ],
      "execution_count": 0,
      "outputs": []
    }
  ]
}